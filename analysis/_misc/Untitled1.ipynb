{
 "cells": [
  {
   "cell_type": "markdown",
   "id": "abandoned-vinyl",
   "metadata": {},
   "source": [
    "## Test new DE"
   ]
  },
  {
   "cell_type": "code",
   "execution_count": 1,
   "id": "balanced-venture",
   "metadata": {},
   "outputs": [],
   "source": [
    "import scanpy as sc\n",
    "from sc_target_evidence_utils import DE_utils, cellontology_utils"
   ]
  },
  {
   "cell_type": "code",
   "execution_count": 2,
   "id": "governing-flexibility",
   "metadata": {},
   "outputs": [],
   "source": [
    "# Parse args\n",
    "disease_ontology_id = 'MONDO_0006156'\n",
    "data_dir = '/nfs/team205/ed6/bin/sc_target_evidence/data/'\n",
    "\n",
    "# Load pseudobulk data\n",
    "# pbulk_adata = sc.read_h5ad(data_dir + f'cellxgene_targets_{disease_ontology_id.replace(\":\", \"_\")}.pbulk_all_OT_targets.h5ad')\n",
    "pbulk_adata = sc.read_h5ad(data_dir + f'cellxgene_targets_{disease_ontology_id.replace(\":\", \"_\")}.pbulk_all_genes.h5ad')\n",
    "\n",
    "# # clean pseudobulk data\n",
    "# clean_disease(pbulk_adata)\n",
    "# graph = cellontology_utils.get_cellontology_graph(data_dir)\n",
    "# pbulk_adata = pbulk_adata[pbulk_adata.obs['high_level_cell_type_ontology_term_id'] != 'low_quality_annotation'].copy()\n",
    "# pbulk_adata.obs['high_level_cell_type'] = [f'{cellontology_utils.ontology2name(x, graph)} ({x})' for x in pbulk_adata.obs['high_level_cell_type_ontology_term_id'].tolist()]\n",
    "# pbulk_adata.obs['sample_id'] = ['-'.join(x[1:]) for x in pbulk_adata.obs_names.str.split(\"-\")]\n",
    "# pbulk_adata.obs['disease_ontology_id'] = disease_ontology_id\n",
    "\n",
    "# # Exclude blacklisted assays\n",
    "# assay_blacklist = [\n",
    "#     'BD Rhapsody Targeted mRNA',\n",
    "#     'STRT-seq',\n",
    "#     'inDrop'\n",
    "#     ]\n",
    "\n",
    "# pbulk_adata = pbulk_adata[~pbulk_adata.obs['assay'].isin(assay_blacklist)].copy()\n",
    "\n",
    "# # Run DE analysis\n",
    "# ct_res = DE_utils.celltype_marker_targets(pbulk_adata)\n",
    "# ct_res.to_csv(f'{data_dir}/DE_celltype_{disease_ontology_id.replace(\":\",\"_\")}.all_targets.csv')"
   ]
  },
  {
   "cell_type": "code",
   "execution_count": 49,
   "id": "natural-accountability",
   "metadata": {},
   "outputs": [],
   "source": [
    "sc.pp.filter_genes(pbulk_adata, min_cells = 3)"
   ]
  },
  {
   "cell_type": "code",
   "execution_count": 50,
   "id": "central-stylus",
   "metadata": {},
   "outputs": [
    {
     "data": {
      "text/plain": [
       "AnnData object with n_obs × n_vars = 1376 × 40838\n",
       "    obs: 'high_level_cell_type_ontology_term_id', 'assay', 'suspension_type', 'disease', 'donor_id', 'size_factors', 'n_cells', 'disease_name_original', 'high_level_cell_type', 'sample_id', 'disease_ontology_id'\n",
       "    var: 'soma_joinid', 'feature_id', 'feature_name', 'feature_length', 'highly_variable', 'means', 'dispersions', 'dispersions_norm', 'highly_variable_rank', 'variances', 'variances_norm', 'residual_variances', 'n_cells'\n",
       "    uns: 'hvg'\n",
       "    layers: 'logcounts'"
      ]
     },
     "execution_count": 50,
     "metadata": {},
     "output_type": "execute_result"
    }
   ],
   "source": [
    "pbulk_adata"
   ]
  },
  {
   "cell_type": "code",
   "execution_count": 28,
   "id": "ready-hollywood",
   "metadata": {},
   "outputs": [],
   "source": [
    "sc.experimental.pp.highly_variable_genes(pbulk_adata, n_top_genes=5000)"
   ]
  },
  {
   "cell_type": "code",
   "execution_count": 46,
   "id": "ordinary-darkness",
   "metadata": {},
   "outputs": [
    {
     "data": {
      "text/plain": [
       "array([ True,  True,  True, ..., False, False, False])"
      ]
     },
     "execution_count": 46,
     "metadata": {},
     "output_type": "execute_result"
    }
   ],
   "source": []
  },
  {
   "cell_type": "code",
   "execution_count": null,
   "id": "stable-sunrise",
   "metadata": {},
   "outputs": [],
   "source": []
  }
 ],
 "metadata": {
  "kernelspec": {
   "display_name": "patho-signatures-2",
   "language": "python",
   "name": "patho-signatures-2"
  },
  "language_info": {
   "codemirror_mode": {
    "name": "ipython",
    "version": 3
   },
   "file_extension": ".py",
   "mimetype": "text/x-python",
   "name": "python",
   "nbconvert_exporter": "python",
   "pygments_lexer": "ipython3",
   "version": "3.9.13"
  }
 },
 "nbformat": 4,
 "nbformat_minor": 5
}
