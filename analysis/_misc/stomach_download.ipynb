{
 "cells": [
  {
   "cell_type": "markdown",
   "id": "derived-quest",
   "metadata": {},
   "source": [
    "## Fix stomach samples download"
   ]
  },
  {
   "cell_type": "code",
   "execution_count": 1,
   "id": "weekly-seating",
   "metadata": {},
   "outputs": [],
   "source": [
    "import os,sys\n",
    "import pandas as pd\n",
    "import numpy as np\n",
    "import json\n",
    "import cellxgene_census\n",
    "import scanpy as sc\n",
    "from sc_target_evidence_utils import cxg_utils, plotting_utils, preprocessing_utils, cellontology_utils"
   ]
  },
  {
   "cell_type": "code",
   "execution_count": 2,
   "id": "pleased-partition",
   "metadata": {},
   "outputs": [],
   "source": [
    "## Read cxg cleaned metadata\n",
    "output_dir = '/nfs/team205/ed6/bin/sc_target_evidence/data/'\n",
    "cxg_metadata = pd.read_csv(output_dir + 'cellxgene_hsapiens_donor_metadata.disease_relevant_annotation.csv', index_col=0)\n",
    "stomach_datasets = cxg_metadata[cxg_metadata['tissue_general'] == 'stomach'].dataset_id.unique().tolist()"
   ]
  },
  {
   "cell_type": "code",
   "execution_count": 18,
   "id": "relevant-elements",
   "metadata": {},
   "outputs": [],
   "source": [
    "## Download datasets\n",
    "for dataset_id in stomach_datasets:\n",
    "    if not os.path.exists(f'{output_dir}/{dataset_id}.h5ad'):\n",
    "        cellxgene_census.download_source_h5ad(\n",
    "            dataset_id, \n",
    "            to_path=f'{output_dir}/{dataset_id}.h5ad', \n",
    "            census_version = \"2023-07-25\")"
   ]
  },
  {
   "cell_type": "code",
   "execution_count": 32,
   "id": "simplified-colony",
   "metadata": {},
   "outputs": [],
   "source": [
    "def process_adata(hlca_adata_full, disease_ids):\n",
    "    OBS_COLS = [\n",
    "            \"assay\", \n",
    "            \"tissue_general\", \n",
    "            \"suspension_type\", \n",
    "            \"disease\", \n",
    "            'donor_id', \n",
    "            'cell_type_ontology_term_id',\n",
    "            'cell_type',\n",
    "            'is_primary_data'\n",
    "    ]\n",
    "    \n",
    "    STOMACH_TISSUES = ['body of stomach', 'cardia of stomach', 'stomach']\n",
    "    \n",
    "    hlca_adata = hlca_adata_full[(hlca_adata_full.obs['tissue'].isin(STOMACH_TISSUES)) & \n",
    "                            (hlca_adata_full.obs['disease_ontology_term_id'].isin(disease_ids)) &\n",
    "                            (hlca_adata_full.obs['is_primary_data'])\n",
    "                           ]\n",
    "\n",
    "    hlca_adata_X = hlca_adata.raw.to_adata()\n",
    "    raw_sum = np.array(hlca_adata_X.X.sum(1)).flatten()\n",
    "\n",
    "#     hlca_adata_X = hlca_adata_X[:, hlca_adata_X.var_names.isin(all_genes_ls)].copy()\n",
    "    hlca_adata_X.obs['tissue_general'] = 'stomach'\n",
    "    hlca_adata_X.obs = hlca_adata_X.obs[OBS_COLS].copy()\n",
    "    hlca_adata_X.obs['total_counts'] = raw_sum\n",
    "\n",
    "    # Exclude blacklisted assays\n",
    "    assay_blacklist = [\n",
    "        'BD Rhapsody Targeted mRNA',\n",
    "        'STRT-seq',\n",
    "        'inDrop'\n",
    "        ]\n",
    "\n",
    "    hlca_adata_X = hlca_adata_X[~hlca_adata_X.obs['assay'].isin(assay_blacklist)].copy()\n",
    "    return(hlca_adata_X)"
   ]
  },
  {
   "cell_type": "code",
   "execution_count": 3,
   "id": "classified-mumbai",
   "metadata": {},
   "outputs": [],
   "source": [
    "stomach_adatas = [sc.read_h5ad(f'{output_dir}/{x}.h5ad') for x in stomach_datasets]\n",
    "stomach_disease_ids = cxg_metadata[cxg_metadata['tissue_general'] == 'stomach'].disease_ontology_id.unique().tolist()"
   ]
  },
  {
   "cell_type": "code",
   "execution_count": 33,
   "id": "cross-quilt",
   "metadata": {},
   "outputs": [],
   "source": [
    "stomach_adatas = [process_adata(a, stomach_disease_ids) for a in stomach_adatas]"
   ]
  },
  {
   "cell_type": "code",
   "execution_count": 34,
   "id": "thirty-craft",
   "metadata": {},
   "outputs": [],
   "source": [
    "for i,a in enumerate(stomach_adatas):\n",
    "    del stomach_adatas[i].obsm"
   ]
  },
  {
   "cell_type": "code",
   "execution_count": 35,
   "id": "electoral-moses",
   "metadata": {},
   "outputs": [],
   "source": [
    "import anndata as ad\n",
    "adata = ad.concat(stomach_adatas, merge='same')"
   ]
  },
  {
   "cell_type": "code",
   "execution_count": 36,
   "id": "false-senegal",
   "metadata": {},
   "outputs": [],
   "source": [
    "adata.var['feature_id'] = adata.var_names.values"
   ]
  },
  {
   "cell_type": "code",
   "execution_count": 37,
   "id": "adopted-juvenile",
   "metadata": {},
   "outputs": [
    {
     "data": {
      "text/plain": [
       "2343"
      ]
     },
     "execution_count": 37,
     "metadata": {},
     "output_type": "execute_result"
    }
   ],
   "source": [
    "del stomach_adatas\n",
    "import gc\n",
    "gc.collect()"
   ]
  },
  {
   "cell_type": "code",
   "execution_count": 39,
   "id": "korean-postcard",
   "metadata": {},
   "outputs": [
    {
     "data": {
      "text/plain": [
       "gastric cancer      116329\n",
       "normal               82109\n",
       "stomach disorder     27462\n",
       "gastritis            26639\n",
       "Name: disease, dtype: int64"
      ]
     },
     "execution_count": 39,
     "metadata": {},
     "output_type": "execute_result"
    }
   ],
   "source": [
    "adata.obs['disease'].value_counts()"
   ]
  },
  {
   "cell_type": "code",
   "execution_count": 40,
   "id": "thermal-crest",
   "metadata": {},
   "outputs": [],
   "source": [
    "## Load target data\n",
    "targets = pd.read_csv(output_dir + 'TargetDiseasePairs_OpenTargets_cellXgeneID_12072023.csv', index_col=0)"
   ]
  },
  {
   "cell_type": "code",
   "execution_count": 41,
   "id": "certain-stretch",
   "metadata": {},
   "outputs": [],
   "source": [
    "disease_info_df = cxg_metadata[['disease_relevant_tissue', 'disease_ontology_id', 'disease']].drop_duplicates()\n",
    "disease_name_mapper = dict(zip(disease_info_df['disease_ontology_id'], disease_info_df['disease']))\n",
    "disease_tissue_mapper = dict(zip(disease_info_df['disease_ontology_id'], disease_info_df['disease_relevant_tissue']))"
   ]
  },
  {
   "cell_type": "code",
   "execution_count": 49,
   "id": "supreme-housing",
   "metadata": {},
   "outputs": [
    {
     "name": "stdout",
     "output_type": "stream",
     "text": [
      "Running MONDO:0004298\n",
      "['normal', 'stomach disorder']\n",
      "['stomach disorder' 'normal']\n",
      "Cleaning cell ontologies...\n",
      "Pseudo-bulking...\n",
      "['stomach disorder' 'normal']\n",
      "['stomach disorder' 'normal']\n",
      "['stomach disorder' 'normal']\n",
      "Saving...\n",
      "Running MONDO:0001056\n",
      "['normal', 'gastric cancer']\n",
      "['gastric cancer' 'normal']\n",
      "Cleaning cell ontologies...\n",
      "Pseudo-bulking...\n",
      "['gastric cancer' 'normal']\n",
      "['gastric cancer' 'normal']\n",
      "['normal']\n",
      "Saving...\n",
      "Running PATO:0000461\n",
      "['normal', 'normal']\n",
      "['normal']\n",
      "Cleaning cell ontologies...\n",
      "Pseudo-bulking...\n",
      "['normal']\n",
      "['normal']\n",
      "['normal']\n",
      "Saving...\n",
      "Running MONDO:0004966\n",
      "['normal', 'gastritis']\n",
      "['normal' 'gastritis']\n",
      "Cleaning cell ontologies...\n",
      "Pseudo-bulking...\n",
      "['normal' 'gastritis']\n",
      "['normal' 'gastritis']\n",
      "['normal' 'gastritis']\n",
      "Saving...\n"
     ]
    }
   ],
   "source": [
    "def clean_disease(pbulk_adata):\n",
    "    '''Uniform disease naming.'''        \n",
    "    DISEASE_RENAME = {'cardiomyopathy':[\n",
    "    'arrhythmogenic right ventricular cardiomyopathy',\n",
    "     'dilated cardiomyopathy',\n",
    "     'non-compaction cardiomyopathy'],\n",
    "  'renal cell carcinoma':['chromophobe renal cell carcinoma', 'clear cell renal carcinoma', 'nonpapillary renal cell carcinoma',\n",
    "                         'kidney oncocytoma', ],\n",
    "  'colorectal cancer': ['colorectal cancer', 'colorectal neoplasm'],\n",
    "    'non-small cell lung carcinoma':['lung large cell carcinoma', 'non-small cell lung carcinoma']\n",
    "    }\n",
    "\n",
    "    disease_rename_rev = {x:k for k,v in DISEASE_RENAME.items() for x in v }\n",
    "\n",
    "    pbulk_adata.obs['disease_name_original'] = pbulk_adata.obs['disease'].copy()\n",
    "    pbulk_adata.obs['disease'] = [disease_rename_rev[x] if x in disease_rename_rev.keys() else x for x in pbulk_adata.obs.disease]\n",
    "\n",
    "\n",
    "for disease_ontology_id in stomach_disease_ids:\n",
    "    print(f\"Running {disease_ontology_id}\")\n",
    "    ## Get list of all possible genes you might need \n",
    "    if \"_\" in disease_ontology_id:\n",
    "        disease_ontology_id = disease_ontology_id.replace(\"_\", \":\")\n",
    "    target_genes = targets[targets['cxg_matched_id'] == disease_ontology_id.replace(\":\", \"_\")].targetId.tolist()\n",
    "\n",
    "    json_file =   output_dir + 'target_universe_dict.json'\n",
    "    with open(json_file, \"r\") as json_file:\n",
    "        universe_dict = json.load(json_file)\n",
    "\n",
    "    all_genes_ls = sum([x for x in universe_dict.values()], [])\n",
    "    all_genes_ls.extend(target_genes)\n",
    "    all_genes_ls = list(set(all_genes_ls))\n",
    "\n",
    "    ## Filter full dataset\n",
    "    disease_ids = ['normal', disease_name_mapper[disease_ontology_id]]\n",
    "    print(disease_ids)\n",
    "    hlca_adata = adata[(adata.obs['disease'].isin(disease_ids))]\n",
    "\n",
    "    hlca_adata = hlca_adata[:, hlca_adata.var_names.isin(all_genes_ls)].copy()\n",
    "    hlca_adata.obs['disease_ontology_id'] = disease_ontology_id\n",
    "    print(hlca_adata.obs['disease'].unique())\n",
    "    \n",
    "    ## Clean cell ontologies\n",
    "    print(\"Cleaning cell ontologies...\")\n",
    "    graph = cellontology_utils.get_cellontology_graph(output_dir)\n",
    "\n",
    "    # Exclude cell types with less than 5 cells\n",
    "    ct_counts = hlca_adata.obs[\"cell_type_ontology_term_id\"].value_counts()\n",
    "    ontology_terms = ct_counts[ct_counts > 5].index.tolist()\n",
    "    ct_rename_dict = cellontology_utils.rename_cts_to_high_level(ontology_terms, graph)\n",
    "    hlca_adata.obs[\"high_level_cell_type_ontology_term_id\"] = [\n",
    "        ct_rename_dict[x] if x in ct_rename_dict.keys() else 'low_quality_annotation' for x in hlca_adata.obs[\"cell_type_ontology_term_id\"] \n",
    "        ]\n",
    "\n",
    "    plotting_utils.plot_celltype_rename(hlca_adata.obs, disease_ontology_id, graph, savedir=output_dir + '/plots/')\n",
    "    \n",
    "    ## Pseudo-bulk by cell ontology and sample\n",
    "    print(\"Pseudo-bulking...\")\n",
    "    pbulk_adata = preprocessing_utils.anndata2pseudobulk(hlca_adata, \n",
    "                                     group_by=['high_level_cell_type_ontology_term_id', 'assay', 'suspension_type', 'disease', 'donor_id'],\n",
    "                                     min_ncells=5       \n",
    "                                    )\n",
    "    print(pbulk_adata.obs['disease'].unique())\n",
    "    clean_disease(pbulk_adata)\n",
    "    print(pbulk_adata.obs['disease'].unique())\n",
    "    pbulk_adata = pbulk_adata[pbulk_adata.obs['high_level_cell_type_ontology_term_id'] != 'low_quality_annotation'].copy()\n",
    "    print(pbulk_adata.obs['disease'].unique())\n",
    "    pbulk_adata.obs['high_level_cell_type'] = [f'{cellontology_utils.ontology2name(x, graph)} ({x})' for x in pbulk_adata.obs['high_level_cell_type_ontology_term_id'].tolist()]\n",
    "    pbulk_adata.obs['sample_id'] = ['-'.join(x[1:]) for x in pbulk_adata.obs_names.str.split(\"-\")]\n",
    "    pbulk_adata.obs['disease_ontology_id'] = disease_ontology_id\n",
    "\n",
    "    ## Save \n",
    "    print(\"Saving...\")\n",
    "#     if not keep_all_genes:\n",
    "#         pbulk_adata.write_h5ad(output_dir + f'cellxgene_targets_{disease_ontology_id.replace(\":\",\"_\")}.pbulk_all_OT_targets.h5ad')\n",
    "#     else:\n",
    "    pbulk_adata.write_h5ad(output_dir + f'cellxgene_targets_{disease_ontology_id.replace(\":\",\"_\")}.pbulk_all_genes.h5ad')\n"
   ]
  },
  {
   "cell_type": "code",
   "execution_count": 46,
   "id": "alert-currency",
   "metadata": {},
   "outputs": [
    {
     "data": {
      "text/plain": [
       "['normal', 'gastritis']\n",
       "Categories (2, object): ['gastritis', 'normal']"
      ]
     },
     "execution_count": 46,
     "metadata": {},
     "output_type": "execute_result"
    }
   ],
   "source": [
    "pbulk_adata.obs['disease'].unique()"
   ]
  },
  {
   "cell_type": "code",
   "execution_count": 43,
   "id": "dying-receiver",
   "metadata": {},
   "outputs": [
    {
     "data": {
      "text/plain": [
       "'/nfs/team205/ed6/bin/sc_target_evidence/data/'"
      ]
     },
     "execution_count": 43,
     "metadata": {},
     "output_type": "execute_result"
    }
   ],
   "source": [
    "output_dir"
   ]
  },
  {
   "cell_type": "code",
   "execution_count": null,
   "id": "realistic-physics",
   "metadata": {},
   "outputs": [],
   "source": []
  }
 ],
 "metadata": {
  "kernelspec": {
   "display_name": "patho-signatures-2",
   "language": "python",
   "name": "patho-signatures-2"
  },
  "language_info": {
   "codemirror_mode": {
    "name": "ipython",
    "version": 3
   },
   "file_extension": ".py",
   "mimetype": "text/x-python",
   "name": "python",
   "nbconvert_exporter": "python",
   "pygments_lexer": "ipython3",
   "version": "3.9.13"
  }
 },
 "nbformat": 4,
 "nbformat_minor": 5
}
