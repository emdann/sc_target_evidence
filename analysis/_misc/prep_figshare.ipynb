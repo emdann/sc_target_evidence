{
 "cells": [
  {
   "cell_type": "markdown",
   "id": "junior-things",
   "metadata": {},
   "source": [
    "# Prepare figshare"
   ]
  },
  {
   "cell_type": "code",
   "execution_count": 2,
   "id": "irish-seeking",
   "metadata": {},
   "outputs": [],
   "source": [
    "import os,sys\n",
    "import pandas as pd\n",
    "import scanpy as sc\n",
    "import shutil"
   ]
  },
  {
   "cell_type": "code",
   "execution_count": 3,
   "id": "spoken-albania",
   "metadata": {},
   "outputs": [],
   "source": [
    "figshare_dir = '/home/jovyan/mount/gdrive/sc_targetID/figshare_data/'\n",
    "DE_results_dir = os.path.join(figshare_dir, 'DEA_results/')\n",
    "pbulk_dir = os.path.join(figshare_dir, 'cxg_aggregated_scRNA/')\n",
    "\n",
    "if not os.path.exists(figshare_dir):\n",
    "    os.mkdir(figshare_dir)\n",
    "    os.mkdir(DE_results_dir)\n",
    "    os.mkdir(pbulk_dir)"
   ]
  },
  {
   "cell_type": "code",
   "execution_count": 15,
   "id": "tight-spanish",
   "metadata": {},
   "outputs": [
    {
     "data": {
      "text/plain": [
       "30"
      ]
     },
     "execution_count": 15,
     "metadata": {},
     "output_type": "execute_result"
    }
   ],
   "source": [
    "## Read disease IDs\n",
    "disease_ids = pd.read_csv('../../data/all_diseases_postqc.csv')['disease_ontology_id'].tolist()\n",
    "len(disease_ids)"
   ]
  },
  {
   "cell_type": "code",
   "execution_count": 23,
   "id": "accomplished-produce",
   "metadata": {},
   "outputs": [],
   "source": [
    "for mondo_id in disease_ids:\n",
    "    pbulk_file = f\"cellxgene_targets_{mondo_id}.pbulk_all_genes.h5ad\"\n",
    "    DE_celltype_file = f\"DE_celltype_{mondo_id}.hvgs.csv\"\n",
    "    DE_diseasecelltype_file = f\"DE_diseasecelltype_{mondo_id}.hvgs.csv\"\n",
    "    \n",
    "    shutil.copy(\n",
    "        os.path.join('../../data/', pbulk_file),\n",
    "        os.path.join(pbulk_dir, pbulk_file)\n",
    "    )\n",
    "    \n",
    "    shutil.copy(\n",
    "        os.path.join('../../data/', DE_celltype_file),\n",
    "        os.path.join(DE_results_dir, DE_celltype_file)\n",
    "    )\n",
    "    \n",
    "    shutil.copy(\n",
    "        os.path.join('../../data/', DE_diseasecelltype_file),\n",
    "        os.path.join(DE_results_dir, DE_diseasecelltype_file)\n",
    "    )"
   ]
  },
  {
   "cell_type": "code",
   "execution_count": 28,
   "id": "steady-idaho",
   "metadata": {},
   "outputs": [],
   "source": [
    "## Upload all supplementary tables\n",
    "suppl_tables_files = [x for x in os.listdir('../../data/') if x.startswith('suppl_table')]\n",
    "for tab in suppl_tables_files:\n",
    "    shutil.copy(\n",
    "        os.path.join('../../data/', tab),\n",
    "        os.path.join(figshare_dir, tab)\n",
    "    )"
   ]
  },
  {
   "cell_type": "code",
   "execution_count": 29,
   "id": "front-stone",
   "metadata": {},
   "outputs": [
    {
     "data": {
      "text/plain": [
       "'/home/jovyan/mount/gdrive/sc_targetID/figshare_data/TargetDiseasePairs_OpenTargets_cellXgeneID_12072023.clean.csv'"
      ]
     },
     "execution_count": 29,
     "metadata": {},
     "output_type": "execute_result"
    }
   ],
   "source": [
    "## Upload original OpenTargets table\n",
    "OT_table_file = 'TargetDiseasePairs_OpenTargets_cellXgeneID_12072023.clean.csv'\n",
    "shutil.copy(\n",
    "    os.path.join('../../data/', OT_table_file),\n",
    "    os.path.join(figshare_dir, OT_table_file)\n",
    ")"
   ]
  },
  {
   "cell_type": "code",
   "execution_count": 31,
   "id": "tight-standard",
   "metadata": {},
   "outputs": [
    {
     "data": {
      "text/plain": [
       "'/home/jovyan/mount/gdrive/sc_targetID/figshare_data/'"
      ]
     },
     "execution_count": 31,
     "metadata": {},
     "output_type": "execute_result"
    }
   ],
   "source": [
    "figshare_dir"
   ]
  },
  {
   "cell_type": "code",
   "execution_count": 30,
   "id": "cultural-accuracy",
   "metadata": {},
   "outputs": [
    {
     "data": {
      "text/plain": [
       "['DEA_results',\n",
       " 'TargetDiseasePairs_OpenTargets_cellXgeneID_12072023.clean.csv',\n",
       " 'cxg_aggregated_scRNA',\n",
       " 'suppl_table_cxg_sample_metadata.post_qc.csv',\n",
       " 'suppl_table_disease_target_evidence.csv',\n",
       " 'suppl_table_diseases.csv',\n",
       " 'suppl_table_odds_ratios.all.csv',\n",
       " 'suppl_table_odds_ratios.disease.csv']"
      ]
     },
     "execution_count": 30,
     "metadata": {},
     "output_type": "execute_result"
    }
   ],
   "source": [
    "os.listdir(figshare_dir)"
   ]
  },
  {
   "cell_type": "markdown",
   "id": "racial-treasurer",
   "metadata": {},
   "source": [
    "### Add data for expanded cell type specificity analysis"
   ]
  },
  {
   "cell_type": "code",
   "execution_count": 8,
   "id": "leading-attachment",
   "metadata": {},
   "outputs": [],
   "source": [
    "expanded_DE_results_dir = os.path.join(figshare_dir, 'DEA_results_expanded/')\n",
    "expanded_pbulk_dir = os.path.join(figshare_dir, 'cxg_aggregated_scRNA_expanded/')\n",
    "\n",
    "if not os.path.exists(figshare_dir):\n",
    "    os.mkdir(expanded_DE_results_dir)\n",
    "    os.mkdir(expanded_pbulk_dir)"
   ]
  },
  {
   "cell_type": "code",
   "execution_count": 11,
   "id": "assigned-promotion",
   "metadata": {},
   "outputs": [],
   "source": [
    "all_tissue_ids = [\n",
    "    'blood',\n",
    "    'brain',\n",
    "    'bone-marrow',\n",
    "    'colon',\n",
    "    'esophagus',\n",
    "    'eye',\n",
    "    'heart',\n",
    "    'liver',\n",
    "    'lung',\n",
    "    'lymph-node',\n",
    "    'nose',\n",
    "    'small-intestine'\n",
    "]\n",
    "\n",
    "for id in all_tissue_ids:\n",
    "    pbulk_file = f\"cellxgene_targets_{id}.pbulk_all_genes.h5ad\"\n",
    "    DE_celltype_file = f\"DE_celltype_{id}.hvgs.csv\"\n",
    "    \n",
    "    shutil.copy(\n",
    "        os.path.join('../../data/', pbulk_file),\n",
    "        os.path.join(expanded_pbulk_dir, pbulk_file)\n",
    "    )\n",
    "    \n",
    "    shutil.copy(\n",
    "        os.path.join('../../data/', DE_celltype_file),\n",
    "        os.path.join(expanded_DE_results_dir, DE_celltype_file)\n",
    "    )"
   ]
  },
  {
   "cell_type": "code",
   "execution_count": 13,
   "id": "hungry-longer",
   "metadata": {},
   "outputs": [],
   "source": [
    "## Upload disease-specific analysis outputs\n",
    "dsa_files = [x for x in os.listdir('../../data/') if x.startswith('disease_specific_analysis.')]\n",
    "for tab in dsa_files:\n",
    "    shutil.copy(\n",
    "        os.path.join('../../data/', tab),\n",
    "        os.path.join(figshare_dir, tab)\n",
    "    )"
   ]
  },
  {
   "cell_type": "code",
   "execution_count": 15,
   "id": "toxic-dating",
   "metadata": {},
   "outputs": [],
   "source": [
    "## Upload expanded analysis outputs\n",
    "edrt_files = [x for x in os.listdir('../../data/') if x.startswith('expanded_DRT')]\n",
    "for tab in edrt_files:\n",
    "    shutil.copy(\n",
    "        os.path.join('../../data/', tab),\n",
    "        os.path.join(figshare_dir, tab)\n",
    "    )"
   ]
  },
  {
   "cell_type": "code",
   "execution_count": null,
   "id": "juvenile-olive",
   "metadata": {},
   "outputs": [],
   "source": [
    "shutil.copy(\n",
    "        os.path.join('../../data/', tab),\n",
    "        os.path.join(figshare_dir, tab)\n",
    "    )"
   ]
  }
 ],
 "metadata": {
  "kernelspec": {
   "display_name": "patho-signatures-2",
   "language": "python",
   "name": "patho-signatures-2"
  },
  "language_info": {
   "codemirror_mode": {
    "name": "ipython",
    "version": 3
   },
   "file_extension": ".py",
   "mimetype": "text/x-python",
   "name": "python",
   "nbconvert_exporter": "python",
   "pygments_lexer": "ipython3",
   "version": "3.9.13"
  }
 },
 "nbformat": 4,
 "nbformat_minor": 5
}
